{
 "cells": [
  {
   "cell_type": "markdown",
   "id": "adf37fa8",
   "metadata": {},
   "source": [
    "CONTENTS:\n",
    "- [Description](#description)\n",
    "  - [EIA Metadata API Tutorial](#eia-metadata-api-tutorial)\n",
    "    - [Overview](#overview)\n",
    "    - [Why Use This Notebook](#why-use-this-notebook)\n",
    "    - [Requirements](#requirements)\n",
    "  - [Setup](#setup)\n",
    "    - [Imports](#imports)\n",
    "    - [Set Up API Key](#set-up-api-key)\n",
    "    - [Define Config](#define-config)\n",
    "  - [Load Metadata](#load-metadata)\n",
    "  - [Preview Metadata](#preview-metadata)\n",
    "  - [Construct Full URL from One Value per Facet](#construct-full-url-from-one-value-per-facet)"
   ]
  },
  {
   "cell_type": "markdown",
   "id": "893c1cf7",
   "metadata": {},
   "source": [
    "<a name='description'></a>\n",
    "# Description\n",
    "\n",
    "This notebook demonstrates how to use the `EiaMetadataDownloader` to extract and understand\n",
    "the metadata available via the EIA v2 API. It shows how to instantiate the downloader, run\n",
    "extraction, and preview the resulting metadata and facet structure."
   ]
  },
  {
   "cell_type": "markdown",
   "id": "b17cceab",
   "metadata": {},
   "source": [
    "<a name='requirements'></a>\n",
    "<a name='why-use-this-notebook'></a>\n",
    "<a name='overview'></a>\n",
    "<a name='eia-metadata-api-tutorial'></a>\n",
    "## EIA Metadata API Tutorial\n",
    "\n",
    "### Overview\n",
    "\n",
    "In this notebook, you'll learn how to:\n",
    "\n",
    "- Connect to the [EIA v2 API](https://www.eia.gov/opendata/) using a Python client.\n",
    "- Traverse API categories to find available datasets.\n",
    "- Retrieve and flatten metadata including frequency, available metrics, and facet dimensions.\n",
    "- Access parameter values for facets such as state, sector, or energy type.\n",
    "\n",
    "### Why Use This Notebook\n",
    "\n",
    "- Automate the discovery of available EIA datasets without browsing the web interface.\n",
    "- Generate all valid combinations of time series from EIA metadata.\n",
    "- Understand how to construct API requests for specific metrics and filters.\n",
    "\n",
    "### Requirements\n",
    "\n",
    "To authenticate and interact with the EIA API, you'll need an API key. Follow these steps:\n",
    "\n",
    "1. Visit the [EIA registration page](https://www.eia.gov/opendata/register.php).\n",
    "2. Enter your email address and submit the form.\n",
    "3. You'll receive a key via email—this key is used as a query parameter in all API requests.\n",
    "4. Set the key as an environment variable (see [Set Up API Key](#set-up-api-key))."
   ]
  },
  {
   "cell_type": "markdown",
   "id": "026c6550",
   "metadata": {},
   "source": [
    "<a name='setup'></a>\n",
    "## Setup"
   ]
  },
  {
   "cell_type": "markdown",
   "id": "cbfb4cba",
   "metadata": {},
   "source": [
    "<a name='imports'></a>\n",
    "### Imports"
   ]
  },
  {
   "cell_type": "code",
   "execution_count": 1,
   "id": "4f030e21",
   "metadata": {
    "vscode": {
     "languageId": "plaintext"
    }
   },
   "outputs": [
    {
     "name": "stdout",
     "output_type": "stream",
     "text": [
      "\u001b[0mWARNING: Running in Jupyter\n",
      "INFO  > cmd='/venv/lib/python3.12/site-packages/ipykernel_launcher.py -f /home/.local/share/jupyter/runtime/kernel-fa4cffb0-28ce-4810-a969-dfd68c850758.json'\n"
     ]
    }
   ],
   "source": [
    "%load_ext autoreload\n",
    "%autoreload 2\n",
    "import logging\n",
    "import os\n",
    "\n",
    "import helpers.hdbg as hdbg\n",
    "\n",
    "import causal_automl.TutorTask401_EIA_metadata_downloader_pipeline.eia_utils as catemdpeu\n",
    "\n",
    "# Enable logging.\n",
    "hdbg.init_logger(verbosity=logging.INFO)\n",
    "_LOG = logging.getLogger(__name__)"
   ]
  },
  {
   "cell_type": "markdown",
   "id": "679a7ff0",
   "metadata": {},
   "source": [
    "<a name='set-up-api-key'></a>\n",
    "### Set Up API Key\n",
    "\n",
    "Store your **EIA API Key** as an environment variable for security. You can do this in your terminal:\n",
    "\n",
    "```sh\n",
    "export EIA_API_KEY=\"your_personal_api_key\"\n",
    "```\n",
    "\n",
    "Alternatively, you can set it within the notebook:"
   ]
  },
  {
   "cell_type": "code",
   "execution_count": 11,
   "id": "2bcea7f1-7166-4831-ad55-df93fc2ed045",
   "metadata": {},
   "outputs": [],
   "source": [
    "# Set your EIA api key here.\n",
    "os.environ[\"EIA_API_KEY\"] = \"\""
   ]
  },
  {
   "cell_type": "code",
   "execution_count": 3,
   "id": "4a377ccb",
   "metadata": {
    "vscode": {
     "languageId": "plaintext"
    }
   },
   "outputs": [],
   "source": [
    "# Ensure the api key is set correctly.\n",
    "hdbg.dassert_in(\n",
    "    \"EIA_API_KEY\", os.environ, msg=\"Missing environment variable EIA_API_KEY.\"\n",
    ")\n",
    "\n",
    "# Retrieve it when needed.\n",
    "api_key = os.getenv(\"EIA_API_KEY\")"
   ]
  },
  {
   "cell_type": "markdown",
   "id": "db87c96d",
   "metadata": {},
   "source": [
    "<a name='define-config'></a>\n",
    "### Define Config\n",
    "\n",
    "In this section, we define the configuration used by the downloader:\n",
    "\n",
    "- `category`: The root category path under the EIA v2 API. Examples include `electricity`, `petroleum`, `natural-gas`, etc.\n",
    "- `version_num`: A version string to tag outputs. This is used in filenames and S3 paths.\n",
    "\n",
    "These inputs help parameterize the metadata extraction process and keep output files versioned."
   ]
  },
  {
   "cell_type": "code",
   "execution_count": 4,
   "id": "5f5c1c09",
   "metadata": {
    "vscode": {
     "languageId": "plaintext"
    }
   },
   "outputs": [],
   "source": [
    "# Define category and output version.\n",
    "category = \"electricity\"\n",
    "version_num = \"1.0\""
   ]
  },
  {
   "cell_type": "markdown",
   "id": "29040fa5",
   "metadata": {},
   "source": [
    "<a name='load-metadata'></a>\n",
    "## Load Metadata\n",
    "\n",
    "We instantiate the `EiaMetadataDownloader` with a specified category, API key, and version number.\n",
    "\n",
    "Then, we extract:\n",
    "- A metadata table containing dataset routes, metrics, and frequencies\n",
    "- A list of facet values required to construct valid API queries"
   ]
  },
  {
   "cell_type": "code",
   "execution_count": 5,
   "id": "938b6c91",
   "metadata": {
    "vscode": {
     "languageId": "plaintext"
    }
   },
   "outputs": [],
   "source": [
    "# Initialize metadata downloader.\n",
    "downloader = catemdpeu.EiaMetadataDownloader(\n",
    "    category=category,\n",
    "    api_key=api_key,\n",
    "    version_num=version_num,\n",
    ")"
   ]
  },
  {
   "cell_type": "code",
   "execution_count": 6,
   "id": "b648570b",
   "metadata": {
    "vscode": {
     "languageId": "plaintext"
    }
   },
   "outputs": [],
   "source": [
    "# Extract metadata.\n",
    "df_metadata, param_entries = downloader.run_metadata_extraction()"
   ]
  },
  {
   "cell_type": "markdown",
   "id": "b8c4f88e",
   "metadata": {},
   "source": [
    "<a name='preview-metadata'></a>\n",
    "## Preview Metadata\n",
    "\n",
    "Each dataset defines one or more facets, which are categorical dimensions used to filter time series data. A valid query must specify one value per required facet (e.g., `stateid=CA`, `sectorid=COM`)."
   ]
  },
  {
   "cell_type": "code",
   "execution_count": 7,
   "id": "eb9d8493",
   "metadata": {
    "vscode": {
     "languageId": "plaintext"
    }
   },
   "outputs": [
    {
     "data": {
      "text/html": [
       "<div>\n",
       "<style scoped>\n",
       "    .dataframe tbody tr th:only-of-type {\n",
       "        vertical-align: middle;\n",
       "    }\n",
       "\n",
       "    .dataframe tbody tr th {\n",
       "        vertical-align: top;\n",
       "    }\n",
       "\n",
       "    .dataframe thead th {\n",
       "        text-align: right;\n",
       "    }\n",
       "</style>\n",
       "<table border=\"1\" class=\"dataframe\">\n",
       "  <thead>\n",
       "    <tr style=\"text-align: right;\">\n",
       "      <th></th>\n",
       "      <th>url</th>\n",
       "      <th>id</th>\n",
       "      <th>dataset_id</th>\n",
       "      <th>name</th>\n",
       "      <th>description</th>\n",
       "      <th>frequency_id</th>\n",
       "      <th>frequency_alias</th>\n",
       "      <th>frequency_description</th>\n",
       "      <th>frequency_query</th>\n",
       "      <th>frequency_format</th>\n",
       "      <th>facets</th>\n",
       "      <th>data</th>\n",
       "      <th>data_alias</th>\n",
       "      <th>data_units</th>\n",
       "      <th>start_period</th>\n",
       "      <th>end_period</th>\n",
       "      <th>parameter_values_file</th>\n",
       "    </tr>\n",
       "  </thead>\n",
       "  <tbody>\n",
       "    <tr>\n",
       "      <th>0</th>\n",
       "      <td>https://api.eia.gov/v2/electricity/retail-sale...</td>\n",
       "      <td>retail_sales_monthly_revenue</td>\n",
       "      <td>retail_sales</td>\n",
       "      <td>Electricity Sales to Ultimate Customers</td>\n",
       "      <td>Electricity sales to ultimate customer by stat...</td>\n",
       "      <td>monthly</td>\n",
       "      <td>None</td>\n",
       "      <td>One data point for each month.</td>\n",
       "      <td>M</td>\n",
       "      <td>YYYY-MM</td>\n",
       "      <td>[{'id': 'stateid', 'description': 'State / Cen...</td>\n",
       "      <td>revenue</td>\n",
       "      <td>Revenue from Sales to Ultimate Customers</td>\n",
       "      <td>million dollars</td>\n",
       "      <td>2001-01</td>\n",
       "      <td>2025-02</td>\n",
       "      <td>eia_parameters_v1.0/retail_sales_parameters.csv</td>\n",
       "    </tr>\n",
       "    <tr>\n",
       "      <th>1</th>\n",
       "      <td>https://api.eia.gov/v2/electricity/retail-sale...</td>\n",
       "      <td>retail_sales_monthly_sales</td>\n",
       "      <td>retail_sales</td>\n",
       "      <td>Electricity Sales to Ultimate Customers</td>\n",
       "      <td>Electricity sales to ultimate customer by stat...</td>\n",
       "      <td>monthly</td>\n",
       "      <td>None</td>\n",
       "      <td>One data point for each month.</td>\n",
       "      <td>M</td>\n",
       "      <td>YYYY-MM</td>\n",
       "      <td>[{'id': 'stateid', 'description': 'State / Cen...</td>\n",
       "      <td>sales</td>\n",
       "      <td>Megawatt-hours Sold to Ultimate Customers</td>\n",
       "      <td>million kilowatt hours</td>\n",
       "      <td>2001-01</td>\n",
       "      <td>2025-02</td>\n",
       "      <td>eia_parameters_v1.0/retail_sales_parameters.csv</td>\n",
       "    </tr>\n",
       "    <tr>\n",
       "      <th>2</th>\n",
       "      <td>https://api.eia.gov/v2/electricity/retail-sale...</td>\n",
       "      <td>retail_sales_monthly_price</td>\n",
       "      <td>retail_sales</td>\n",
       "      <td>Electricity Sales to Ultimate Customers</td>\n",
       "      <td>Electricity sales to ultimate customer by stat...</td>\n",
       "      <td>monthly</td>\n",
       "      <td>None</td>\n",
       "      <td>One data point for each month.</td>\n",
       "      <td>M</td>\n",
       "      <td>YYYY-MM</td>\n",
       "      <td>[{'id': 'stateid', 'description': 'State / Cen...</td>\n",
       "      <td>price</td>\n",
       "      <td>Average Price of Electricity to Ultimate Custo...</td>\n",
       "      <td>cents per kilowatt-hour</td>\n",
       "      <td>2001-01</td>\n",
       "      <td>2025-02</td>\n",
       "      <td>eia_parameters_v1.0/retail_sales_parameters.csv</td>\n",
       "    </tr>\n",
       "    <tr>\n",
       "      <th>3</th>\n",
       "      <td>https://api.eia.gov/v2/electricity/retail-sale...</td>\n",
       "      <td>retail_sales_monthly_customers</td>\n",
       "      <td>retail_sales</td>\n",
       "      <td>Electricity Sales to Ultimate Customers</td>\n",
       "      <td>Electricity sales to ultimate customer by stat...</td>\n",
       "      <td>monthly</td>\n",
       "      <td>None</td>\n",
       "      <td>One data point for each month.</td>\n",
       "      <td>M</td>\n",
       "      <td>YYYY-MM</td>\n",
       "      <td>[{'id': 'stateid', 'description': 'State / Cen...</td>\n",
       "      <td>customers</td>\n",
       "      <td>Number of Ultimate Customers</td>\n",
       "      <td>number of customers</td>\n",
       "      <td>2001-01</td>\n",
       "      <td>2025-02</td>\n",
       "      <td>eia_parameters_v1.0/retail_sales_parameters.csv</td>\n",
       "    </tr>\n",
       "    <tr>\n",
       "      <th>4</th>\n",
       "      <td>https://api.eia.gov/v2/electricity/retail-sale...</td>\n",
       "      <td>retail_sales_quarterly_revenue</td>\n",
       "      <td>retail_sales</td>\n",
       "      <td>Electricity Sales to Ultimate Customers</td>\n",
       "      <td>Electricity sales to ultimate customer by stat...</td>\n",
       "      <td>quarterly</td>\n",
       "      <td>None</td>\n",
       "      <td>One data point every 3 months.</td>\n",
       "      <td>Q</td>\n",
       "      <td>YYYY-\"Q\"Q</td>\n",
       "      <td>[{'id': 'stateid', 'description': 'State / Cen...</td>\n",
       "      <td>revenue</td>\n",
       "      <td>Revenue from Sales to Ultimate Customers</td>\n",
       "      <td>million dollars</td>\n",
       "      <td>2001-01</td>\n",
       "      <td>2025-02</td>\n",
       "      <td>eia_parameters_v1.0/retail_sales_parameters.csv</td>\n",
       "    </tr>\n",
       "  </tbody>\n",
       "</table>\n",
       "</div>"
      ],
      "text/plain": [
       "                                                 url  \\\n",
       "0  https://api.eia.gov/v2/electricity/retail-sale...   \n",
       "1  https://api.eia.gov/v2/electricity/retail-sale...   \n",
       "2  https://api.eia.gov/v2/electricity/retail-sale...   \n",
       "3  https://api.eia.gov/v2/electricity/retail-sale...   \n",
       "4  https://api.eia.gov/v2/electricity/retail-sale...   \n",
       "\n",
       "                               id    dataset_id  \\\n",
       "0    retail_sales_monthly_revenue  retail_sales   \n",
       "1      retail_sales_monthly_sales  retail_sales   \n",
       "2      retail_sales_monthly_price  retail_sales   \n",
       "3  retail_sales_monthly_customers  retail_sales   \n",
       "4  retail_sales_quarterly_revenue  retail_sales   \n",
       "\n",
       "                                      name  \\\n",
       "0  Electricity Sales to Ultimate Customers   \n",
       "1  Electricity Sales to Ultimate Customers   \n",
       "2  Electricity Sales to Ultimate Customers   \n",
       "3  Electricity Sales to Ultimate Customers   \n",
       "4  Electricity Sales to Ultimate Customers   \n",
       "\n",
       "                                         description frequency_id  \\\n",
       "0  Electricity sales to ultimate customer by stat...      monthly   \n",
       "1  Electricity sales to ultimate customer by stat...      monthly   \n",
       "2  Electricity sales to ultimate customer by stat...      monthly   \n",
       "3  Electricity sales to ultimate customer by stat...      monthly   \n",
       "4  Electricity sales to ultimate customer by stat...    quarterly   \n",
       "\n",
       "  frequency_alias           frequency_description frequency_query  \\\n",
       "0            None  One data point for each month.               M   \n",
       "1            None  One data point for each month.               M   \n",
       "2            None  One data point for each month.               M   \n",
       "3            None  One data point for each month.               M   \n",
       "4            None  One data point every 3 months.               Q   \n",
       "\n",
       "  frequency_format                                             facets  \\\n",
       "0          YYYY-MM  [{'id': 'stateid', 'description': 'State / Cen...   \n",
       "1          YYYY-MM  [{'id': 'stateid', 'description': 'State / Cen...   \n",
       "2          YYYY-MM  [{'id': 'stateid', 'description': 'State / Cen...   \n",
       "3          YYYY-MM  [{'id': 'stateid', 'description': 'State / Cen...   \n",
       "4        YYYY-\"Q\"Q  [{'id': 'stateid', 'description': 'State / Cen...   \n",
       "\n",
       "        data                                         data_alias  \\\n",
       "0    revenue           Revenue from Sales to Ultimate Customers   \n",
       "1      sales          Megawatt-hours Sold to Ultimate Customers   \n",
       "2      price  Average Price of Electricity to Ultimate Custo...   \n",
       "3  customers                       Number of Ultimate Customers   \n",
       "4    revenue           Revenue from Sales to Ultimate Customers   \n",
       "\n",
       "                data_units start_period end_period  \\\n",
       "0          million dollars      2001-01    2025-02   \n",
       "1   million kilowatt hours      2001-01    2025-02   \n",
       "2  cents per kilowatt-hour      2001-01    2025-02   \n",
       "3      number of customers      2001-01    2025-02   \n",
       "4          million dollars      2001-01    2025-02   \n",
       "\n",
       "                             parameter_values_file  \n",
       "0  eia_parameters_v1.0/retail_sales_parameters.csv  \n",
       "1  eia_parameters_v1.0/retail_sales_parameters.csv  \n",
       "2  eia_parameters_v1.0/retail_sales_parameters.csv  \n",
       "3  eia_parameters_v1.0/retail_sales_parameters.csv  \n",
       "4  eia_parameters_v1.0/retail_sales_parameters.csv  "
      ]
     },
     "execution_count": 7,
     "metadata": {},
     "output_type": "execute_result"
    }
   ],
   "source": [
    "# Preview metadata index.\n",
    "df_metadata.head()"
   ]
  },
  {
   "cell_type": "code",
   "execution_count": 8,
   "id": "cc9cd9a5",
   "metadata": {
    "vscode": {
     "languageId": "plaintext"
    }
   },
   "outputs": [
    {
     "data": {
      "text/html": [
       "<div>\n",
       "<style scoped>\n",
       "    .dataframe tbody tr th:only-of-type {\n",
       "        vertical-align: middle;\n",
       "    }\n",
       "\n",
       "    .dataframe tbody tr th {\n",
       "        vertical-align: top;\n",
       "    }\n",
       "\n",
       "    .dataframe thead th {\n",
       "        text-align: right;\n",
       "    }\n",
       "</style>\n",
       "<table border=\"1\" class=\"dataframe\">\n",
       "  <thead>\n",
       "    <tr style=\"text-align: right;\">\n",
       "      <th></th>\n",
       "      <th>dataset_id</th>\n",
       "      <th>facet_id</th>\n",
       "      <th>id</th>\n",
       "      <th>name</th>\n",
       "      <th>alias</th>\n",
       "    </tr>\n",
       "  </thead>\n",
       "  <tbody>\n",
       "    <tr>\n",
       "      <th>0</th>\n",
       "      <td>retail_sales</td>\n",
       "      <td>stateid</td>\n",
       "      <td>IN</td>\n",
       "      <td>Indiana</td>\n",
       "      <td>(IN) Indiana</td>\n",
       "    </tr>\n",
       "    <tr>\n",
       "      <th>1</th>\n",
       "      <td>retail_sales</td>\n",
       "      <td>stateid</td>\n",
       "      <td>KS</td>\n",
       "      <td>Kansas</td>\n",
       "      <td>(KS) Kansas</td>\n",
       "    </tr>\n",
       "    <tr>\n",
       "      <th>2</th>\n",
       "      <td>retail_sales</td>\n",
       "      <td>stateid</td>\n",
       "      <td>MAT</td>\n",
       "      <td>Middle Atlantic</td>\n",
       "      <td>Region: (MAT) Middle Atlantic</td>\n",
       "    </tr>\n",
       "    <tr>\n",
       "      <th>3</th>\n",
       "      <td>retail_sales</td>\n",
       "      <td>stateid</td>\n",
       "      <td>CT</td>\n",
       "      <td>Connecticut</td>\n",
       "      <td>(CT) Connecticut</td>\n",
       "    </tr>\n",
       "    <tr>\n",
       "      <th>4</th>\n",
       "      <td>retail_sales</td>\n",
       "      <td>stateid</td>\n",
       "      <td>VA</td>\n",
       "      <td>Virginia</td>\n",
       "      <td>(VA) Virginia</td>\n",
       "    </tr>\n",
       "  </tbody>\n",
       "</table>\n",
       "</div>"
      ],
      "text/plain": [
       "     dataset_id facet_id   id             name                          alias\n",
       "0  retail_sales  stateid   IN          Indiana                   (IN) Indiana\n",
       "1  retail_sales  stateid   KS           Kansas                    (KS) Kansas\n",
       "2  retail_sales  stateid  MAT  Middle Atlantic  Region: (MAT) Middle Atlantic\n",
       "3  retail_sales  stateid   CT      Connecticut               (CT) Connecticut\n",
       "4  retail_sales  stateid   VA         Virginia                  (VA) Virginia"
      ]
     },
     "execution_count": 8,
     "metadata": {},
     "output_type": "execute_result"
    }
   ],
   "source": [
    "# Preview facet values.\n",
    "df_facet = param_entries[0][0]\n",
    "df_facet.head()"
   ]
  },
  {
   "cell_type": "code",
   "execution_count": 9,
   "id": "73b7e6f6-8ba8-40a5-99d6-68a1b5739ff3",
   "metadata": {},
   "outputs": [
    {
     "data": {
      "text/html": [
       "<div>\n",
       "<style scoped>\n",
       "    .dataframe tbody tr th:only-of-type {\n",
       "        vertical-align: middle;\n",
       "    }\n",
       "\n",
       "    .dataframe tbody tr th {\n",
       "        vertical-align: top;\n",
       "    }\n",
       "\n",
       "    .dataframe thead th {\n",
       "        text-align: right;\n",
       "    }\n",
       "</style>\n",
       "<table border=\"1\" class=\"dataframe\">\n",
       "  <thead>\n",
       "    <tr style=\"text-align: right;\">\n",
       "      <th></th>\n",
       "      <th>dataset_id</th>\n",
       "      <th>facet_id</th>\n",
       "      <th>id</th>\n",
       "      <th>name</th>\n",
       "      <th>alias</th>\n",
       "    </tr>\n",
       "  </thead>\n",
       "  <tbody>\n",
       "    <tr>\n",
       "      <th>0</th>\n",
       "      <td>retail_sales</td>\n",
       "      <td>stateid</td>\n",
       "      <td>IN</td>\n",
       "      <td>Indiana</td>\n",
       "      <td>(IN) Indiana</td>\n",
       "    </tr>\n",
       "    <tr>\n",
       "      <th>62</th>\n",
       "      <td>retail_sales</td>\n",
       "      <td>sectorid</td>\n",
       "      <td>OTH</td>\n",
       "      <td>other</td>\n",
       "      <td>(OTH) other</td>\n",
       "    </tr>\n",
       "  </tbody>\n",
       "</table>\n",
       "</div>"
      ],
      "text/plain": [
       "      dataset_id  facet_id   id     name         alias\n",
       "0   retail_sales   stateid   IN  Indiana  (IN) Indiana\n",
       "62  retail_sales  sectorid  OTH    other   (OTH) other"
      ]
     },
     "execution_count": 9,
     "metadata": {},
     "output_type": "execute_result"
    }
   ],
   "source": [
    "# Show unique facet types and sample values for each.\n",
    "df_facet.groupby(\"facet_id\").head(1)"
   ]
  },
  {
   "cell_type": "markdown",
   "id": "8bb95abb-9f4c-4c3f-90a1-0c84b7b2bb96",
   "metadata": {},
   "source": [
    "<a name='construct-full-url-from-one-value-per-facet'></a>\n",
    "## Construct Full URL from One Value per Facet"
   ]
  },
  {
   "cell_type": "code",
   "execution_count": 10,
   "id": "21fcd85b-891e-439f-9d56-6447b7e7d595",
   "metadata": {},
   "outputs": [
    {
     "name": "stdout",
     "output_type": "stream",
     "text": [
      "https://api.eia.gov/v2/electricity/retail-sales/data?api_key=API_KEY&frequency=monthly&data[0]=revenue&facets[stateid][]=IN&facets[sectorid][]=OTH\n"
     ]
    }
   ],
   "source": [
    "# Since the URL would expose the actual API key, we overwrite it with a placeholder for safe display.\n",
    "api_key = \"API_KEY\"\n",
    "\n",
    "# Select sample route.\n",
    "meta = df_metadata.iloc[0]\n",
    "\n",
    "# Select facet values.\n",
    "facet_input = {\"stateid\": \"IN\", \"sectorid\": \"OTH\"}\n",
    "\n",
    "# Build a query URL to retrieve actual time series values from the EIA API.\n",
    "full_url = catemdpeu.build_full_url(\n",
    "    base_url=meta[\"url\"],\n",
    "    api_key=api_key,\n",
    "    facet_input=facet_input,\n",
    ")\n",
    "print(full_url)"
   ]
  }
 ],
 "metadata": {
  "jupytext": {
   "formats": "ipynb,py:percent"
  },
  "kernelspec": {
   "display_name": "Python 3 (ipykernel)",
   "language": "python",
   "name": "python3"
  },
  "language_info": {
   "codemirror_mode": {
    "name": "ipython",
    "version": 3
   },
   "file_extension": ".py",
   "mimetype": "text/x-python",
   "name": "python",
   "nbconvert_exporter": "python",
   "pygments_lexer": "ipython3",
   "version": "3.12.3"
  }
 },
 "nbformat": 4,
 "nbformat_minor": 5
}
