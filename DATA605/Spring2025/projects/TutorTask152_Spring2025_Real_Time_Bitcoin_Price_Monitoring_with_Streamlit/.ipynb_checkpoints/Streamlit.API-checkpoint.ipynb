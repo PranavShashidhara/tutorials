{
 "cells": [
  {
   "cell_type": "markdown",
   "id": "8345fd19",
   "metadata": {},
   "source": [
    "# Streamlit & CoinGecko API Example\n",
    "\n",
    "# Introduction\n",
    "\n",
    "This notebook demonstrates how to interact with the CoinGecko API using a custom wrapper module `Streamlit_utils`. It provides practical examples of retrieving cryptocurrency data, calculating financial metrics, and detecting anomalies for enhanced crypto analysis."
   ]
  },
  {
   "cell_type": "markdown",
   "id": "c2b198fc",
   "metadata": {},
   "source": [
    "## Notebook Objectives\n",
    "- Access live and historical cryptocurrency data\n",
    "- Calculate moving averages and technical indicators\n",
    "- Identify anomalies in market behavior\n",
    "- Showcase API usage through wrapper functions\n"
   ]
  },
  {
   "cell_type": "markdown",
   "id": "a82fab87",
   "metadata": {},
   "source": [
    "## Notebook Flow\n",
    "1. **Setup and Imports** – Load required modules and utility functions\n",
    "2. **Fetch Current Price** – Retrieve live data for Bitcoin\n",
    "3. **Historical Data** – Load 30-day historical data\n",
    "4. **Moving Average Calculation** – Smooth price trends over time\n",
    "5. **Technical Indicators** – Calculate common indicators (e.g., RSI, MACD)\n",
    "6. **Anomaly Detection** – Flag unusual data points"
   ]
  },
  {
   "cell_type": "markdown",
   "id": "6122a1bf",
   "metadata": {},
   "source": [
    "## References\n",
    "- CoinGecko API documentation: https://www.coingecko.com/en/api/documentation\n",
    "- Pandas documentation: https://pandas.pydata.org/\n",
    "- TA-Lib Python Module: https://technical-analysis-library-in-python.readthedocs.io/en/latest/\n"
   ]
  },
  {
   "cell_type": "markdown",
   "id": "0c54d65c",
   "metadata": {},
   "source": [
    "## Citations\n",
    "- CoinGecko. (2024). *CoinGecko API v3*. Retrieved from https://www.coingecko.com/en/api/documentation\n"
   ]
  },
  {
   "cell_type": "markdown",
   "id": "88d3eeff",
   "metadata": {},
   "source": [
    "## Further Reading\n",
    "- Investopedia on Moving Averages: https://www.investopedia.com/terms/m/movingaverage.asp\n",
    "- Investopedia on Technical Analysis: https://www.investopedia.com/terms/t/technicalanalysis.asp"
   ]
  },
  {
   "cell_type": "markdown",
   "id": "272f5dfd",
   "metadata": {},
   "source": [
    "## Notebook Setup and Imports\n",
    "This section sets up the notebook environment and imports core utility functions needed for interacting with the CoinGecko API via the custom `Streamlit_utils` wrapper."
   ]
  },
  {
   "cell_type": "code",
   "execution_count": 1,
   "id": "20139ab0",
   "metadata": {},
   "outputs": [],
   "source": [
    "# Fetch current price data using wrapper function.\n",
    "from Streamlit_utils import get_current_price, get_historical_data, calculate_moving_average, calculate_technical_indicators, detect_anomalies"
   ]
  },
  {
   "cell_type": "markdown",
   "id": "ad0e6e49",
   "metadata": {},
   "source": [
    "## Fetch Current Price"
   ]
  },
  {
   "cell_type": "code",
   "execution_count": 2,
   "id": "d1a8b9b3",
   "metadata": {},
   "outputs": [
    {
     "name": "stdout",
     "output_type": "stream",
     "text": [
      "Current Bitcoin Price: 94967\n"
     ]
    }
   ],
   "source": [
    "# Fetch current price data using wrapper function.\n",
    "current_price_btc = get_current_price('bitcoin')\n",
    "print('Current Bitcoin Price:', current_price_btc)"
   ]
  },
  {
   "cell_type": "markdown",
   "id": "544ecf19",
   "metadata": {},
   "source": [
    "## Fetch Historical Data"
   ]
  },
  {
   "cell_type": "code",
   "execution_count": 3,
   "id": "04194d6d",
   "metadata": {},
   "outputs": [
    {
     "data": {
      "text/html": [
       "<div>\n",
       "<style scoped>\n",
       "    .dataframe tbody tr th:only-of-type {\n",
       "        vertical-align: middle;\n",
       "    }\n",
       "\n",
       "    .dataframe tbody tr th {\n",
       "        vertical-align: top;\n",
       "    }\n",
       "\n",
       "    .dataframe thead th {\n",
       "        text-align: right;\n",
       "    }\n",
       "</style>\n",
       "<table border=\"1\" class=\"dataframe\">\n",
       "  <thead>\n",
       "    <tr style=\"text-align: right;\">\n",
       "      <th></th>\n",
       "      <th>date</th>\n",
       "      <th>price</th>\n",
       "    </tr>\n",
       "  </thead>\n",
       "  <tbody>\n",
       "    <tr>\n",
       "      <th>0</th>\n",
       "      <td>2025-03-30</td>\n",
       "      <td>82450.582407</td>\n",
       "    </tr>\n",
       "    <tr>\n",
       "      <th>1</th>\n",
       "      <td>2025-03-31</td>\n",
       "      <td>82333.024014</td>\n",
       "    </tr>\n",
       "    <tr>\n",
       "      <th>2</th>\n",
       "      <td>2025-04-01</td>\n",
       "      <td>84013.934388</td>\n",
       "    </tr>\n",
       "    <tr>\n",
       "      <th>3</th>\n",
       "      <td>2025-04-02</td>\n",
       "      <td>85143.010956</td>\n",
       "    </tr>\n",
       "    <tr>\n",
       "      <th>4</th>\n",
       "      <td>2025-04-03</td>\n",
       "      <td>82787.444561</td>\n",
       "    </tr>\n",
       "  </tbody>\n",
       "</table>\n",
       "</div>"
      ],
      "text/plain": [
       "        date         price\n",
       "0 2025-03-30  82450.582407\n",
       "1 2025-03-31  82333.024014\n",
       "2 2025-04-01  84013.934388\n",
       "3 2025-04-02  85143.010956\n",
       "4 2025-04-03  82787.444561"
      ]
     },
     "execution_count": 3,
     "metadata": {},
     "output_type": "execute_result"
    }
   ],
   "source": [
    "# Retrieve historical market data.\n",
    "historical_data_btc = get_historical_data('bitcoin', days=30)\n",
    "historical_data_btc.head()"
   ]
  },
  {
   "cell_type": "markdown",
   "id": "a1e6e0ac",
   "metadata": {},
   "source": [
    "## Calculate Moving Average"
   ]
  },
  {
   "cell_type": "code",
   "execution_count": 4,
   "id": "fce81d9c",
   "metadata": {},
   "outputs": [
    {
     "data": {
      "text/html": [
       "<div>\n",
       "<style scoped>\n",
       "    .dataframe tbody tr th:only-of-type {\n",
       "        vertical-align: middle;\n",
       "    }\n",
       "\n",
       "    .dataframe tbody tr th {\n",
       "        vertical-align: top;\n",
       "    }\n",
       "\n",
       "    .dataframe thead th {\n",
       "        text-align: right;\n",
       "    }\n",
       "</style>\n",
       "<table border=\"1\" class=\"dataframe\">\n",
       "  <thead>\n",
       "    <tr style=\"text-align: right;\">\n",
       "      <th></th>\n",
       "      <th>date</th>\n",
       "      <th>price</th>\n",
       "      <th>moving_average</th>\n",
       "    </tr>\n",
       "  </thead>\n",
       "  <tbody>\n",
       "    <tr>\n",
       "      <th>0</th>\n",
       "      <td>2025-03-30</td>\n",
       "      <td>82450.582407</td>\n",
       "      <td>82450.582407</td>\n",
       "    </tr>\n",
       "    <tr>\n",
       "      <th>1</th>\n",
       "      <td>2025-03-31</td>\n",
       "      <td>82333.024014</td>\n",
       "      <td>82391.803211</td>\n",
       "    </tr>\n",
       "    <tr>\n",
       "      <th>2</th>\n",
       "      <td>2025-04-01</td>\n",
       "      <td>84013.934388</td>\n",
       "      <td>82932.513603</td>\n",
       "    </tr>\n",
       "    <tr>\n",
       "      <th>3</th>\n",
       "      <td>2025-04-02</td>\n",
       "      <td>85143.010956</td>\n",
       "      <td>83485.137941</td>\n",
       "    </tr>\n",
       "    <tr>\n",
       "      <th>4</th>\n",
       "      <td>2025-04-03</td>\n",
       "      <td>82787.444561</td>\n",
       "      <td>83345.599265</td>\n",
       "    </tr>\n",
       "  </tbody>\n",
       "</table>\n",
       "</div>"
      ],
      "text/plain": [
       "        date         price  moving_average\n",
       "0 2025-03-30  82450.582407    82450.582407\n",
       "1 2025-03-31  82333.024014    82391.803211\n",
       "2 2025-04-01  84013.934388    82932.513603\n",
       "3 2025-04-02  85143.010956    83485.137941\n",
       "4 2025-04-03  82787.444561    83345.599265"
      ]
     },
     "execution_count": 4,
     "metadata": {},
     "output_type": "execute_result"
    }
   ],
   "source": [
    "# Calculate moving average over specified window.\n",
    "ma_data = calculate_moving_average(historical_data_btc, window=7)\n",
    "ma_data.head()"
   ]
  },
  {
   "cell_type": "markdown",
   "id": "1ffa8345",
   "metadata": {},
   "source": [
    "## Calculate Technical Indicators"
   ]
  },
  {
   "cell_type": "code",
   "execution_count": 16,
   "id": "97c43050",
   "metadata": {},
   "outputs": [
    {
     "data": {
      "text/html": [
       "<div>\n",
       "<style scoped>\n",
       "    .dataframe tbody tr th:only-of-type {\n",
       "        vertical-align: middle;\n",
       "    }\n",
       "\n",
       "    .dataframe tbody tr th {\n",
       "        vertical-align: top;\n",
       "    }\n",
       "\n",
       "    .dataframe thead th {\n",
       "        text-align: right;\n",
       "    }\n",
       "</style>\n",
       "<table border=\"1\" class=\"dataframe\">\n",
       "  <thead>\n",
       "    <tr style=\"text-align: right;\">\n",
       "      <th></th>\n",
       "      <th>date</th>\n",
       "      <th>price</th>\n",
       "      <th>RSI</th>\n",
       "      <th>MACD</th>\n",
       "      <th>MACD_signal</th>\n",
       "      <th>BB_upper</th>\n",
       "      <th>BB_lower</th>\n",
       "    </tr>\n",
       "  </thead>\n",
       "  <tbody>\n",
       "    <tr>\n",
       "      <th>0</th>\n",
       "      <td>2025-03-30</td>\n",
       "      <td>82450.582407</td>\n",
       "      <td>NaN</td>\n",
       "      <td>NaN</td>\n",
       "      <td>NaN</td>\n",
       "      <td>NaN</td>\n",
       "      <td>NaN</td>\n",
       "    </tr>\n",
       "    <tr>\n",
       "      <th>1</th>\n",
       "      <td>2025-03-31</td>\n",
       "      <td>82333.024014</td>\n",
       "      <td>NaN</td>\n",
       "      <td>NaN</td>\n",
       "      <td>NaN</td>\n",
       "      <td>NaN</td>\n",
       "      <td>NaN</td>\n",
       "    </tr>\n",
       "    <tr>\n",
       "      <th>2</th>\n",
       "      <td>2025-04-01</td>\n",
       "      <td>84013.934388</td>\n",
       "      <td>NaN</td>\n",
       "      <td>NaN</td>\n",
       "      <td>NaN</td>\n",
       "      <td>NaN</td>\n",
       "      <td>NaN</td>\n",
       "    </tr>\n",
       "    <tr>\n",
       "      <th>3</th>\n",
       "      <td>2025-04-02</td>\n",
       "      <td>85143.010956</td>\n",
       "      <td>NaN</td>\n",
       "      <td>NaN</td>\n",
       "      <td>NaN</td>\n",
       "      <td>NaN</td>\n",
       "      <td>NaN</td>\n",
       "    </tr>\n",
       "    <tr>\n",
       "      <th>4</th>\n",
       "      <td>2025-04-03</td>\n",
       "      <td>82787.444561</td>\n",
       "      <td>NaN</td>\n",
       "      <td>NaN</td>\n",
       "      <td>NaN</td>\n",
       "      <td>NaN</td>\n",
       "      <td>NaN</td>\n",
       "    </tr>\n",
       "  </tbody>\n",
       "</table>\n",
       "</div>"
      ],
      "text/plain": [
       "        date         price  RSI  MACD  MACD_signal  BB_upper  BB_lower\n",
       "0 2025-03-30  82450.582407  NaN   NaN          NaN       NaN       NaN\n",
       "1 2025-03-31  82333.024014  NaN   NaN          NaN       NaN       NaN\n",
       "2 2025-04-01  84013.934388  NaN   NaN          NaN       NaN       NaN\n",
       "3 2025-04-02  85143.010956  NaN   NaN          NaN       NaN       NaN\n",
       "4 2025-04-03  82787.444561  NaN   NaN          NaN       NaN       NaN"
      ]
     },
     "execution_count": 16,
     "metadata": {},
     "output_type": "execute_result"
    }
   ],
   "source": [
    "# Compute technical indicators for the data.\n",
    "technical_data = calculate_technical_indicators(historical_data_btc)\n",
    "technical_data.head()"
   ]
  },
  {
   "cell_type": "markdown",
   "id": "10affcd3",
   "metadata": {},
   "source": [
    "## Detect Anomalies"
   ]
  },
  {
   "cell_type": "code",
   "execution_count": 6,
   "id": "92ac7026",
   "metadata": {},
   "outputs": [
    {
     "data": {
      "text/html": [
       "<div>\n",
       "<style scoped>\n",
       "    .dataframe tbody tr th:only-of-type {\n",
       "        vertical-align: middle;\n",
       "    }\n",
       "\n",
       "    .dataframe tbody tr th {\n",
       "        vertical-align: top;\n",
       "    }\n",
       "\n",
       "    .dataframe thead th {\n",
       "        text-align: right;\n",
       "    }\n",
       "</style>\n",
       "<table border=\"1\" class=\"dataframe\">\n",
       "  <thead>\n",
       "    <tr style=\"text-align: right;\">\n",
       "      <th></th>\n",
       "      <th>date</th>\n",
       "      <th>price</th>\n",
       "      <th>price_diff</th>\n",
       "      <th>z_score</th>\n",
       "      <th>anomaly</th>\n",
       "    </tr>\n",
       "  </thead>\n",
       "  <tbody>\n",
       "    <tr>\n",
       "      <th>8</th>\n",
       "      <td>2025-04-07</td>\n",
       "      <td>77695.173397</td>\n",
       "      <td>-4306.235879</td>\n",
       "      <td>-3.010134</td>\n",
       "      <td>True</td>\n",
       "    </tr>\n",
       "  </tbody>\n",
       "</table>\n",
       "</div>"
      ],
      "text/plain": [
       "        date         price   price_diff   z_score  anomaly\n",
       "8 2025-04-07  77695.173397 -4306.235879 -3.010134     True"
      ]
     },
     "execution_count": 6,
     "metadata": {},
     "output_type": "execute_result"
    }
   ],
   "source": [
    "# Detect anomalies in the dataset.\n",
    "anomaly_data = detect_anomalies(historical_data_btc)\n",
    "anomaly_data[anomaly_data['anomaly']].head()"
   ]
  }
 ],
 "metadata": {
  "kernelspec": {
   "display_name": "Python 3 (ipykernel)",
   "language": "python",
   "name": "python3"
  },
  "language_info": {
   "codemirror_mode": {
    "name": "ipython",
    "version": 3
   },
   "file_extension": ".py",
   "mimetype": "text/x-python",
   "name": "python",
   "nbconvert_exporter": "python",
   "pygments_lexer": "ipython3",
   "version": "3.12.5"
  }
 },
 "nbformat": 4,
 "nbformat_minor": 5
}
